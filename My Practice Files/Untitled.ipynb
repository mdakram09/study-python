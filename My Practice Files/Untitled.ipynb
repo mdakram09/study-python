{
 "cells": [
  {
   "cell_type": "code",
   "execution_count": 13,
   "metadata": {},
   "outputs": [
    {
     "name": "stdout",
     "output_type": "stream",
     "text": [
      "6.0\n"
     ]
    }
   ],
   "source": [
    "def avr(a,b):\n",
    "    average=(a+b)/2\n",
    "    return average\n",
    "    \n",
    "    \n",
    "v=avr(5,7)\n",
    "print(v)"
   ]
  },
  {
   "cell_type": "code",
   "execution_count": 14,
   "metadata": {},
   "outputs": [
    {
     "name": "stdout",
     "output_type": "stream",
     "text": [
      "12\n"
     ]
    }
   ],
   "source": [
    "def summ(a,b):\n",
    "    sum=(a+b)\n",
    "    return sum\n",
    "    \n",
    "    \n",
    "v=summ(5,7)\n",
    "print(v)"
   ]
  },
  {
   "cell_type": "code",
   "execution_count": 16,
   "metadata": {},
   "outputs": [
    {
     "name": "stdout",
     "output_type": "stream",
     "text": [
      "akram  eats  5  lollypops\n",
      "\n",
      "Tathir  eats  7  lollypops\n",
      "\n",
      "Akash  eats  8  lollypops\n",
      "\n",
      "Krishna  eats  3  lollypops\n",
      "\n"
     ]
    }
   ],
   "source": [
    "l=[[\"akram\",5], [\"Tathir\",7],[\"Akash\",8],[\"Krishna\",3]]\n",
    "for item, lollypop in l:\n",
    "    print(item,\" eats \",lollypop,\" lollypops\\n\")"
   ]
  },
  {
   "cell_type": "code",
   "execution_count": 18,
   "metadata": {},
   "outputs": [
    {
     "data": {
      "text/plain": [
       "9"
      ]
     },
     "execution_count": 18,
     "metadata": {},
     "output_type": "execute_result"
    }
   ],
   "source": [
    "n=[4,8,2,9,4,8,0,5,6,1]\n",
    "max(n)\n"
   ]
  },
  {
   "cell_type": "code",
   "execution_count": 19,
   "metadata": {},
   "outputs": [
    {
     "data": {
      "text/plain": [
       "0"
      ]
     },
     "execution_count": 19,
     "metadata": {},
     "output_type": "execute_result"
    }
   ],
   "source": [
    "min(n)"
   ]
  },
  {
   "cell_type": "code",
   "execution_count": 20,
   "metadata": {},
   "outputs": [
    {
     "data": {
      "text/plain": [
       "1"
      ]
     },
     "execution_count": 20,
     "metadata": {},
     "output_type": "execute_result"
    }
   ],
   "source": [
    "n.pop()"
   ]
  },
  {
   "cell_type": "code",
   "execution_count": 21,
   "metadata": {},
   "outputs": [
    {
     "data": {
      "text/plain": [
       "[4, 8, 2, 9, 4, 8, 0, 5, 6]"
      ]
     },
     "execution_count": 21,
     "metadata": {},
     "output_type": "execute_result"
    }
   ],
   "source": [
    "n"
   ]
  },
  {
   "cell_type": "code",
   "execution_count": 23,
   "metadata": {},
   "outputs": [],
   "source": [
    "n.append(7)"
   ]
  },
  {
   "cell_type": "code",
   "execution_count": 24,
   "metadata": {},
   "outputs": [
    {
     "data": {
      "text/plain": [
       "[4, 8, 2, 9, 4, 8, 0, 5, 6, 7]"
      ]
     },
     "execution_count": 24,
     "metadata": {},
     "output_type": "execute_result"
    }
   ],
   "source": [
    "n"
   ]
  },
  {
   "cell_type": "code",
   "execution_count": 39,
   "metadata": {},
   "outputs": [],
   "source": [
    "d={\"Akram\":{\"Breakfast\":\"Puri sabji\",\"Lunch\":\"briyani\",\"Dinner\":\"Alu paratha\"},\"Tathir\":{\"Breakfast\":\"Puri sabji\",\"Lunch\":\"briyani\",\"Dinner\":\"Alu paratha\"}}"
   ]
  },
  {
   "cell_type": "code",
   "execution_count": 38,
   "metadata": {},
   "outputs": [
    {
     "name": "stdout",
     "output_type": "stream",
     "text": [
      "Puri sabji\n"
     ]
    }
   ],
   "source": [
    "print(d[\"Akram\"][\"Breakfast\"])"
   ]
  },
  {
   "cell_type": "code",
   "execution_count": 42,
   "metadata": {},
   "outputs": [
    {
     "name": "stdout",
     "output_type": "stream",
     "text": [
      "Alu paratha\n"
     ]
    }
   ],
   "source": [
    "print(d[\"Tathir\"][\"Dinner\"])"
   ]
  },
  {
   "cell_type": "code",
   "execution_count": 46,
   "metadata": {},
   "outputs": [
    {
     "name": "stdout",
     "output_type": "stream",
     "text": [
      "please enter the number \n",
      "2\n",
      "2 \n",
      "\n",
      "\n",
      "4 \n",
      "\n",
      "\n",
      "6 \n",
      "\n",
      "\n",
      "8 \n",
      "\n",
      "\n",
      "10 \n",
      "\n",
      "\n",
      "12 \n",
      "\n",
      "\n",
      "14 \n",
      "\n",
      "\n",
      "16 \n",
      "\n",
      "\n",
      "18 \n",
      "\n",
      "\n",
      "20 \n",
      "\n",
      "\n"
     ]
    }
   ],
   "source": [
    "n=int(input(\"please enter the number \\n\"))\n",
    "for i in range(1,11):\n",
    "    print(n*i,\"\\n\\n\")"
   ]
  },
  {
   "cell_type": "code",
   "execution_count": 49,
   "metadata": {},
   "outputs": [
    {
     "name": "stdout",
     "output_type": "stream",
     "text": [
      "please enter the number \n",
      "5\n",
      "5 \n",
      "\n",
      "\n",
      "10 \n",
      "\n",
      "\n",
      "15 \n",
      "\n",
      "\n",
      "20 \n",
      "\n",
      "\n",
      "25 \n",
      "\n",
      "\n",
      "30 \n",
      "\n",
      "\n",
      "35 \n",
      "\n",
      "\n",
      "40 \n",
      "\n",
      "\n",
      "45 \n",
      "\n",
      "\n",
      "50 \n",
      "\n",
      "\n"
     ]
    }
   ],
   "source": [
    "n=int(input(\"please enter the number \\n\"))\n",
    "i=1\n",
    "while(i<11):\n",
    "    print(n*i,\"\\n\\n\")\n",
    "    i+=1"
   ]
  },
  {
   "cell_type": "code",
   "execution_count": 55,
   "metadata": {},
   "outputs": [
    {
     "name": "stdout",
     "output_type": "stream",
     "text": [
      "2002  , \n",
      "2009  , \n",
      "2016  , \n",
      "2023  , \n",
      "2037  , \n",
      "2044  , \n",
      "2051  , \n",
      "2058  , \n",
      "2072  , \n",
      "2079  , \n",
      "2086  , \n",
      "2093  , \n",
      "2107  , \n",
      "2114  , \n",
      "2121  , \n",
      "2128  , \n",
      "2142  , \n",
      "2149  , \n",
      "2156  , \n",
      "2163  , \n",
      "2177  , \n",
      "2184  , \n",
      "2191  , \n",
      "2198  , \n",
      "2212  , \n",
      "2219  , \n",
      "2226  , \n",
      "2233  , \n",
      "2247  , \n",
      "2254  , \n",
      "2261  , \n",
      "2268  , \n",
      "2282  , \n",
      "2289  , \n",
      "2296  , \n",
      "2303  , \n",
      "2317  , \n",
      "2324  , \n",
      "2331  , \n",
      "2338  , \n",
      "2352  , \n",
      "2359  , \n",
      "2366  , \n",
      "2373  , \n",
      "2387  , \n",
      "2394  , \n",
      "2401  , \n",
      "2408  , \n",
      "2422  , \n",
      "2429  , \n",
      "2436  , \n",
      "2443  , \n",
      "2457  , \n",
      "2464  , \n",
      "2471  , \n",
      "2478  , \n",
      "2492  , \n",
      "2499  , \n",
      "2506  , \n",
      "2513  , \n",
      "2527  , \n",
      "2534  , \n",
      "2541  , \n",
      "2548  , \n",
      "2562  , \n",
      "2569  , \n",
      "2576  , \n",
      "2583  , \n",
      "2597  , \n",
      "2604  , \n",
      "2611  , \n",
      "2618  , \n",
      "2632  , \n",
      "2639  , \n",
      "2646  , \n",
      "2653  , \n",
      "2667  , \n",
      "2674  , \n",
      "2681  , \n",
      "2688  , \n",
      "2702  , \n",
      "2709  , \n",
      "2716  , \n",
      "2723  , \n",
      "2737  , \n",
      "2744  , \n",
      "2751  , \n",
      "2758  , \n",
      "2772  , \n",
      "2779  , \n",
      "2786  , \n",
      "2793  , \n",
      "2807  , \n",
      "2814  , \n",
      "2821  , \n",
      "2828  , \n",
      "2842  , \n",
      "2849  , \n",
      "2856  , \n",
      "2863  , \n",
      "2877  , \n",
      "2884  , \n",
      "2891  , \n",
      "2898  , \n",
      "2912  , \n",
      "2919  , \n",
      "2926  , \n",
      "2933  , \n",
      "2947  , \n",
      "2954  , \n",
      "2961  , \n",
      "2968  , \n",
      "2982  , \n",
      "2989  , \n",
      "2996  , \n",
      "3003  , \n",
      "3017  , \n",
      "3024  , \n",
      "3031  , \n",
      "3038  , \n",
      "3052  , \n",
      "3059  , \n",
      "3066  , \n",
      "3073  , \n",
      "3087  , \n",
      "3094  , \n",
      "3101  , \n",
      "3108  , \n",
      "3122  , \n",
      "3129  , \n",
      "3136  , \n",
      "3143  , \n",
      "3157  , \n",
      "3164  , \n",
      "3171  , \n",
      "3178  , \n",
      "3192  , \n",
      "3199  , \n"
     ]
    }
   ],
   "source": [
    "for i in range(2000,3201):\n",
    "    if(i%7==0) and (i%5!=0):\n",
    "        print(i,\" , \")"
   ]
  },
  {
   "cell_type": "code",
   "execution_count": 57,
   "metadata": {},
   "outputs": [
    {
     "name": "stdout",
     "output_type": "stream",
     "text": [
      "please enter your first name \n",
      "Md Akram\n",
      "please enter your last name \n",
      "Khan\n",
      "Hello Khan Md Akram\n"
     ]
    }
   ],
   "source": [
    "f=input(\"please enter your first name \\n\")\n",
    "l=input(\"please enter your last name \\n\")\n",
    "\n",
    "r=\"Hello {} {}\".format(l,f)\n",
    "print(r)"
   ]
  },
  {
   "cell_type": "code",
   "execution_count": 59,
   "metadata": {},
   "outputs": [
    {
     "name": "stdout",
     "output_type": "stream",
     "text": [
      "904.3199999999999\n"
     ]
    }
   ],
   "source": [
    "d=12\n",
    "def vol(r):\n",
    "    v=(4/3)*3.14*(r**3)\n",
    "    print(v)\n",
    "    \n",
    "vol(d/2)"
   ]
  },
  {
   "cell_type": "code",
   "execution_count": 60,
   "metadata": {},
   "outputs": [
    {
     "name": "stdout",
     "output_type": "stream",
     "text": [
      "Please enter the string\n",
      "ineuron\n",
      "norueni\n"
     ]
    }
   ],
   "source": [
    "str=input(\"Please enter the string\\n\")\n",
    "print(str[::-1])"
   ]
  },
  {
   "cell_type": "code",
   "execution_count": null,
   "metadata": {},
   "outputs": [],
   "source": []
  }
 ],
 "metadata": {
  "kernelspec": {
   "display_name": "Python 3",
   "language": "python",
   "name": "python3"
  },
  "language_info": {
   "codemirror_mode": {
    "name": "ipython",
    "version": 3
   },
   "file_extension": ".py",
   "mimetype": "text/x-python",
   "name": "python",
   "nbconvert_exporter": "python",
   "pygments_lexer": "ipython3",
   "version": "3.8.3"
  }
 },
 "nbformat": 4,
 "nbformat_minor": 2
}
