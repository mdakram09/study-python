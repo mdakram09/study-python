{
 "cells": [
  {
   "cell_type": "code",
   "execution_count": 13,
   "metadata": {},
   "outputs": [
    {
     "name": "stdout",
     "output_type": "stream",
     "text": [
      "6.0\n"
     ]
    }
   ],
   "source": [
    "def avr(a,b):\n",
    "    average=(a+b)/2\n",
    "    return average\n",
    "    \n",
    "    \n",
    "v=avr(5,7)\n",
    "print(v)"
   ]
  },
  {
   "cell_type": "code",
   "execution_count": 14,
   "metadata": {},
   "outputs": [
    {
     "name": "stdout",
     "output_type": "stream",
     "text": [
      "12\n"
     ]
    }
   ],
   "source": [
    "def summ(a,b):\n",
    "    sum=(a+b)\n",
    "    return sum\n",
    "    \n",
    "    \n",
    "v=summ(5,7)\n",
    "print(v)"
   ]
  },
  {
   "cell_type": "code",
   "execution_count": 16,
   "metadata": {},
   "outputs": [
    {
     "name": "stdout",
     "output_type": "stream",
     "text": [
      "akram  eats  5  lollypops\n",
      "\n",
      "Tathir  eats  7  lollypops\n",
      "\n",
      "Akash  eats  8  lollypops\n",
      "\n",
      "Krishna  eats  3  lollypops\n",
      "\n"
     ]
    }
   ],
   "source": [
    "l=[[\"akram\",5], [\"Tathir\",7],[\"Akash\",8],[\"Krishna\",3]]\n",
    "for item, lollypop in l:\n",
    "    print(item,\" eats \",lollypop,\" lollypops\\n\")"
   ]
  },
  {
   "cell_type": "code",
   "execution_count": 18,
   "metadata": {},
   "outputs": [
    {
     "data": {
      "text/plain": [
       "9"
      ]
     },
     "execution_count": 18,
     "metadata": {},
     "output_type": "execute_result"
    }
   ],
   "source": [
    "n=[4,8,2,9,4,8,0,5,6,1]\n",
    "max(n)\n"
   ]
  },
  {
   "cell_type": "code",
   "execution_count": 19,
   "metadata": {},
   "outputs": [
    {
     "data": {
      "text/plain": [
       "0"
      ]
     },
     "execution_count": 19,
     "metadata": {},
     "output_type": "execute_result"
    }
   ],
   "source": [
    "min(n)"
   ]
  },
  {
   "cell_type": "code",
   "execution_count": 20,
   "metadata": {},
   "outputs": [
    {
     "data": {
      "text/plain": [
       "1"
      ]
     },
     "execution_count": 20,
     "metadata": {},
     "output_type": "execute_result"
    }
   ],
   "source": [
    "n.pop()"
   ]
  },
  {
   "cell_type": "code",
   "execution_count": 21,
   "metadata": {},
   "outputs": [
    {
     "data": {
      "text/plain": [
       "[4, 8, 2, 9, 4, 8, 0, 5, 6]"
      ]
     },
     "execution_count": 21,
     "metadata": {},
     "output_type": "execute_result"
    }
   ],
   "source": [
    "n"
   ]
  },
  {
   "cell_type": "code",
   "execution_count": 23,
   "metadata": {},
   "outputs": [],
   "source": [
    "n.append(7)"
   ]
  },
  {
   "cell_type": "code",
   "execution_count": 24,
   "metadata": {},
   "outputs": [
    {
     "data": {
      "text/plain": [
       "[4, 8, 2, 9, 4, 8, 0, 5, 6, 7]"
      ]
     },
     "execution_count": 24,
     "metadata": {},
     "output_type": "execute_result"
    }
   ],
   "source": [
    "n"
   ]
  },
  {
   "cell_type": "code",
   "execution_count": 39,
   "metadata": {},
   "outputs": [],
   "source": [
    "d={\"Akram\":{\"Breakfast\":\"Puri sabji\",\"Lunch\":\"briyani\",\"Dinner\":\"Alu paratha\"},\"Tathir\":{\"Breakfast\":\"Puri sabji\",\"Lunch\":\"briyani\",\"Dinner\":\"Alu paratha\"}}"
   ]
  },
  {
   "cell_type": "code",
   "execution_count": 38,
   "metadata": {},
   "outputs": [
    {
     "name": "stdout",
     "output_type": "stream",
     "text": [
      "Puri sabji\n"
     ]
    }
   ],
   "source": [
    "print(d[\"Akram\"][\"Breakfast\"])"
   ]
  },
  {
   "cell_type": "code",
   "execution_count": 42,
   "metadata": {},
   "outputs": [
    {
     "name": "stdout",
     "output_type": "stream",
     "text": [
      "Alu paratha\n"
     ]
    }
   ],
   "source": [
    "print(d[\"Tathir\"][\"Dinner\"])"
   ]
  },
  {
   "cell_type": "code",
   "execution_count": 46,
   "metadata": {},
   "outputs": [
    {
     "name": "stdout",
     "output_type": "stream",
     "text": [
      "please enter the number \n",
      "2\n",
      "2 \n",
      "\n",
      "\n",
      "4 \n",
      "\n",
      "\n",
      "6 \n",
      "\n",
      "\n",
      "8 \n",
      "\n",
      "\n",
      "10 \n",
      "\n",
      "\n",
      "12 \n",
      "\n",
      "\n",
      "14 \n",
      "\n",
      "\n",
      "16 \n",
      "\n",
      "\n",
      "18 \n",
      "\n",
      "\n",
      "20 \n",
      "\n",
      "\n"
     ]
    }
   ],
   "source": [
    "n=int(input(\"please enter the number \\n\"))\n",
    "for i in range(1,11):\n",
    "    print(n*i,\"\\n\\n\")"
   ]
  },
  {
   "cell_type": "code",
   "execution_count": 49,
   "metadata": {},
   "outputs": [
    {
     "name": "stdout",
     "output_type": "stream",
     "text": [
      "please enter the number \n",
      "5\n",
      "5 \n",
      "\n",
      "\n",
      "10 \n",
      "\n",
      "\n",
      "15 \n",
      "\n",
      "\n",
      "20 \n",
      "\n",
      "\n",
      "25 \n",
      "\n",
      "\n",
      "30 \n",
      "\n",
      "\n",
      "35 \n",
      "\n",
      "\n",
      "40 \n",
      "\n",
      "\n",
      "45 \n",
      "\n",
      "\n",
      "50 \n",
      "\n",
      "\n"
     ]
    }
   ],
   "source": [
    "n=int(input(\"please enter the number \\n\"))\n",
    "i=1\n",
    "while(i<11):\n",
    "    print(n*i,\"\\n\\n\")\n",
    "    i+=1"
   ]
  },
  {
   "cell_type": "code",
   "execution_count": 53,
   "metadata": {},
   "outputs": [],
   "source": [
    "for i in range(2000,3201):\n",
    "    if(i%7==0) and ()"
   ]
  },
  {
   "cell_type": "code",
   "execution_count": null,
   "metadata": {},
   "outputs": [],
   "source": []
  }
 ],
 "metadata": {
  "kernelspec": {
   "display_name": "Python 3",
   "language": "python",
   "name": "python3"
  },
  "language_info": {
   "codemirror_mode": {
    "name": "ipython",
    "version": 3
   },
   "file_extension": ".py",
   "mimetype": "text/x-python",
   "name": "python",
   "nbconvert_exporter": "python",
   "pygments_lexer": "ipython3",
   "version": "3.7.1"
  }
 },
 "nbformat": 4,
 "nbformat_minor": 2
}
